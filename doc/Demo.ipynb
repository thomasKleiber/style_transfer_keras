{
 "cells": [
  {
   "cell_type": "markdown",
   "metadata": {},
   "source": [
    "# Style transfer demo\n",
    "\n",
    "This notebook demonstrates how to use this project. You dont have to read it all to start using it, just change paths where i higlighted in yellow."
   ]
  },
  {
   "cell_type": "code",
   "execution_count": null,
   "metadata": {},
   "outputs": [],
   "source": [
    "# This first cell creates a style transfer object:\n",
    "exec(open(\"../src/style_transfer.py\").read())\n",
    "s=stylePyr()"
   ]
  },
  {
   "cell_type": "markdown",
   "metadata": {},
   "source": [
    "First of all, you will need to lower images sizes if you encounter memory issues (or increase it if you want pretty results and have a big GPU) :"
   ]
  },
  {
   "cell_type": "code",
   "execution_count": 3,
   "metadata": {},
   "outputs": [],
   "source": [
    "s.HW=1000"
   ]
  },
  {
   "cell_type": "markdown",
   "metadata": {},
   "source": [
    "Next comes setings / initializations. If you want to try it <span class=\"mark\">you *must* update data in this first cell</span> (mostly to provide existing base images) :  "
   ]
  },
  {
   "cell_type": "code",
   "execution_count": 4,
   "metadata": {},
   "outputs": [],
   "source": [
    "# Content image path\n",
    "s.input_img = '/home/thomas/Desktop/corse.JPG'\n",
    "\n",
    "# Style images folder\n",
    "s.style_images_folder = '/home/thomas/Desktop/arabic/'\n",
    "\n",
    "# where to put output images\n",
    "s.out_folder = '/home/thomas/work/jupyter/'"
   ]
  },
  {
   "cell_type": "markdown",
   "metadata": {},
   "source": [
    "This algorithm enables to use one *or several* style images. To do so, you must fill 's.im_set' with images indexes. This helper function lists available images (in directory s.style_images_folder) with their indexes:"
   ]
  },
  {
   "cell_type": "code",
   "execution_count": 5,
   "metadata": {},
   "outputs": [
    {
     "name": "stdout",
     "output_type": "stream",
     "text": [
      "--------------------------\n",
      " * 0 - 10968016_dscn4240-2.jpg\n",
      "   1 - 241338-serviette-arabesque-fleur-noire-mandala-1.jpg\n",
      "   2 - 7406803_100-8167.jpg\n",
      "   3 - 7432663_salman.jpg\n",
      "   4 - 7516969_elan.jpg\n",
      "   5 - Arabesco_de_Medina_Azahara_(2)_(Córdoba,_España).jpg\n",
      "   6 - Atauriques.jpg\n",
      "   7 - Tile_panel_flowers_Louvre_OA3919-2-297.jpg\n",
      "   8 - Tiles_inside_the_Jame_Mosque_of_Yazd_01.jpg\n",
      "   9 - Turkey;_Iznik_-_Two_Tiles_-_Google_Art_Project.jpg\n",
      "   10 - qulander.jpg\n",
      "--------------------------\n",
      "\n",
      "\n"
     ]
    }
   ],
   "source": [
    "s.list_im_folder()"
   ]
  },
  {
   "cell_type": "markdown",
   "metadata": {},
   "source": [
    "The you have to <span class=\"mark\">choose the indexes</span> of images to use :\n",
    "(more style images = more memory)"
   ]
  },
  {
   "cell_type": "code",
   "execution_count": 6,
   "metadata": {},
   "outputs": [],
   "source": [
    "s.im_set = [8]"
   ]
  },
  {
   "cell_type": "markdown",
   "metadata": {},
   "source": [
    "Then comes the configs that are fun to play with"
   ]
  },
  {
   "cell_type": "code",
   "execution_count": 7,
   "metadata": {},
   "outputs": [],
   "source": [
    "# Initial rescale of content image. 1 is \"full scale\", 0 will give\n",
    "# similar results as setting random_input to True\n",
    "s.content_img_init_rescale=1 \n",
    "\n",
    "# Optionnal additive gaussian noise \n",
    "s.init_noise_amount=0.0\n",
    "\n",
    "# VGG16 layers to use\n",
    "s.style_layers = ['block2_conv1', 'block3_conv1']\n",
    "\n",
    "# Pyrdown factors in loss. Leftmost is 1 pyrdown, then 2, 3, 4. See\n",
    "# https://en.wikipedia.org/wiki/Pyramid_(image_processing))\n",
    "s.pyrdowns = [ 1, 0, 1, 0 ]\n",
    "\n",
    "# Use random input instead of real image (bypasses the \"content\n",
    "# images\" configs.\n",
    "s.radom_input=False"
   ]
  },
  {
   "cell_type": "markdown",
   "metadata": {},
   "source": [
    "These are more expert / less fun:"
   ]
  },
  {
   "cell_type": "code",
   "execution_count": 13,
   "metadata": {},
   "outputs": [],
   "source": [
    "# out name will be prefixed with a number, to not to overwrite anything\n",
    "s.run_cnt=0\n",
    "\n",
    "# How often a log line will be written, and progress is computed (see \n",
    "# 'learning_rates' descriptions below)\n",
    "s.log_granularity=10\n",
    "\n",
    "# Adaptive learning rate pairs. Each pair is (learningrate, progress_limit),\n",
    "# i.e. sitch to next lr when progress is less than progress_limit. Progress\n",
    "# is loss change ratio between two logs. Last value should be 0.\n",
    "s.learning_rates = [[5,2], [0.5, 1.1], [0.05, 0]]\n",
    "\n",
    "# Max number of iterations (the algorithm stops by itself when it doesn't \n",
    "# progress any more)\n",
    "s.ITS=2000\n",
    "\n",
    "# How to name output image. If '' a name will be built with im_name\n",
    "s.out_name = ''\n",
    "\n",
    "# use all images in folder (overrides im_set)\n",
    "s.use_full_im_folder=False"
   ]
  },
  {
   "cell_type": "markdown",
   "metadata": {},
   "source": [
    "`s.doit()` launches the computation. Each time a line is logged below, tmp image *im.jpg* is stored in `s.out_folder` so that jou can check its progression. \n"
   ]
  },
  {
   "cell_type": "code",
   "execution_count": null,
   "metadata": {
    "scrolled": true
   },
   "outputs": [],
   "source": [
    "s.doit()"
   ]
  }
 ],
 "metadata": {
  "kernelspec": {
   "display_name": "Python 3",
   "language": "python",
   "name": "python3"
  },
  "language_info": {
   "codemirror_mode": {
    "name": "ipython",
    "version": 3
   },
   "file_extension": ".py",
   "mimetype": "text/x-python",
   "name": "python",
   "nbconvert_exporter": "python",
   "pygments_lexer": "ipython3",
   "version": "3.5.2"
  }
 },
 "nbformat": 4,
 "nbformat_minor": 2
}
