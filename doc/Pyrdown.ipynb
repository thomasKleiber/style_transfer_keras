{
 "cells": [
  {
   "cell_type": "markdown",
   "metadata": {},
   "source": [
    "# Using \"pyrdown\" in style transfer\n",
    "\n",
    "## Why ?\n",
    "\n",
    "Style transfer algorithm uses so called \"Gramm martixs\" of feature maps as a representation (or signature) of image style. These matrixs' sizes are independant of input size : they only depend on the numer of layers the feature map has.\n",
    "\n",
    "On the other hand, each consecutive convolution filters of the CNN process a given input size. Each \"pixel\" of layer 0 will correspond to a 3x3 area of input image. Each pixel of layer 1 correspond to a 3x3 area of layer 0, i.e. a 5x5 area of input image, etc.\n",
    "\n",
    "As a consequence, at layer N, the Gramm matrix you will obtain is a representation of image style (colors, shapes, textures, etc) *as seen through a small window* : by construction it will only represent these features *at a given scale*."
   ]
  },
  {
   "cell_type": "markdown",
   "metadata": {},
   "source": [
    "## So...\n",
    "\n",
    "\n",
    "Pyramid in image processing is a way to manage an image at several scales at once.\n",
    "\n",
    "![](images/pyrdown.png)\n",
    "\n",
    "The idea is to compute style loss considering several layers of th pyramid (not only the 'base' one). I implemented that im my style transfer projects (using keras AveragePooling2D layer)\n",
    "\n",
    "## Results\n",
    "\n",
    "Here is a little demo. These images are \"style only\" executions of the algorithm (i.e. with `s.random_input = True`, see [demo](Demo.jpynb)."
   ]
  },
  {
   "cell_type": "markdown",
   "metadata": {},
   "source": [
    "![](images/pyrdown_zellige.png)From left to right : original image / no pyrdown / 1 pyrdown / 2 pyrdowns / 3 pyrdowns / 4 pyrdowns (note aliasing)\n",
    "\n",
    "\n",
    "![](images/pyrdown_zellige2.png)\n",
    "\n",
    "original image / 1 + 2 + 3 pyrdowns\n",
    "\n",
    "That example is quite bad because islamic geometric patters are highly symetric (not to say some kind of cosmic perfection). This random-based imitation can't fake it. So that these images actually look destroyed compared to the original one...\n",
    "\n",
    "Still I believe it shows that the 'multi-scale' thing works good. \n",
    "\n",
    "And it shows (by the way) that if these machine-learning things give some nice results, they are not doing *art* at all, i.e. not creating anything. They are just copying patterns. There is no understanding / meaning / purpose. Im just saying that because I think comments like 'piss off, JSBach : my IA can create music!' I see online sometimes are just bullshit"
   ]
  }
 ],
 "metadata": {
  "kernelspec": {
   "display_name": "Python 3",
   "language": "python",
   "name": "python3"
  },
  "language_info": {
   "codemirror_mode": {
    "name": "ipython",
    "version": 3
   },
   "file_extension": ".py",
   "mimetype": "text/x-python",
   "name": "python",
   "nbconvert_exporter": "python",
   "pygments_lexer": "ipython3",
   "version": "3.5.2"
  }
 },
 "nbformat": 4,
 "nbformat_minor": 2
}
